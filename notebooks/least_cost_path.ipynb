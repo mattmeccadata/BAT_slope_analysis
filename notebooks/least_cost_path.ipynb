{
 "cells": [
  {
   "cell_type": "markdown",
   "id": "354f93e1",
   "metadata": {},
   "source": [
    "# Least-Cost Path Routing using REMA DEM\n",
    "This notebook performs routing based on slope-derived cost from REMA mosaics. It:\n",
    "- Loads a shapefile AOI\n",
    "- Queries the PGC STAC API for matching REMA tiles\n",
    "- Computes slope and a cost surface\n",
    "- Runs least-cost routing between two coordinate points\n",
    "- Saves outputs as GeoTIFFs"
   ]
  },
  {
   "cell_type": "markdown",
   "id": "c6d7b88d",
   "metadata": {},
   "source": [
    "## 1. Imports\n",
    "Load all necessary geospatial, raster, and routing libraries."
   ]
  },
  {
   "cell_type": "code",
   "execution_count": 1,
   "id": "b01ee884",
   "metadata": {},
   "outputs": [],
   "source": [
    "import geopandas as gpd  # for vector data handling\n",
    "from shapely.geometry import mapping  # convert geometries to GeoJSON-like dicts\n",
    "from pystac_client import Client  # access STAC API\n",
    "import stackstac  # turn STAC items into xarray objects\n",
    "import rioxarray  # adds raster and CRS support to xarray\n",
    "import numpy as np  # numerical processing\n",
    "import xarray as xr  # labeled N-D arrays\n",
    "from rasterio.transform import rowcol  # convert coordinates to pixel indices\n",
    "from skimage.graph import route_through_array  # least-cost path routing"
   ]
  },
  {
   "cell_type": "markdown",
   "id": "7174d62b",
   "metadata": {},
   "source": [
    "## 2. Load AOI\n",
    "Load the Area of Interest shapefile and remove a problematic feature."
   ]
  },
  {
   "cell_type": "code",
   "execution_count": 2,
   "id": "c7621f53",
   "metadata": {},
   "outputs": [],
   "source": [
    "aoi = gpd.read_file(\"data/bat_boundary/bat_boundary.shp\")  # load AOI shapefile\n",
    "aoi_cleaned = aoi.drop(index=53).reset_index(drop=True)  # drop corrupted polygon"
   ]
  },
  {
   "cell_type": "markdown",
   "id": "8b6f95fb",
   "metadata": {},
   "source": [
    "## 3. STAC Search and Stack\n",
    "Query REMA mosaics intersecting the AOI from the PGC STAC API."
   ]
  },
  {
   "cell_type": "code",
   "execution_count": 3,
   "id": "27ef0b90",
   "metadata": {},
   "outputs": [
    {
     "name": "stdout",
     "output_type": "stream",
     "text": [
      "Found 4 REMA items\n"
     ]
    }
   ],
   "source": [
    "catalog = Client.open(\"https://stac.pgc.umn.edu/api/v1/\")\n",
    "\n",
    "search = catalog.search(\n",
    "    collections=[\"rema-mosaics-v2.0-32m\"],\n",
    "    intersects=mapping(aoi.geometry[9]),  # area selected to minimize computational cost\n",
    "    datetime=\"2009-01-01/2025-06-30\"\n",
    ")\n",
    "items = search.item_collection()\n",
    "print(f\"Found {len(items)} REMA items\")"
   ]
  },
  {
   "cell_type": "code",
   "execution_count": 5,
   "id": "acda8224",
   "metadata": {},
   "outputs": [
    {
     "name": "stdout",
     "output_type": "stream",
     "text": [
      "(4, 6, 19471, 15879)\n",
      "Full data loaded\n"
     ]
    }
   ],
   "source": [
    "# Convert the REMA items into a stacked xarray.DataArray (lazy loaded)\n",
    "stack = stackstac.stack(\n",
    "    items,\n",
    "    epsg=3857,\n",
    "    resolution=32\n",
    ").rio.write_crs(\"EPSG:3857\")  # ensure CRS is set\n",
    "\n",
    "# Extract maximum elevation over time\n",
    "dem = stack.sel(band=\"dem\").max(dim=\"time\")"
   ]
  },
  {
   "cell_type": "markdown",
   "id": "2b3f7e8c",
   "metadata": {},
   "source": [
    "## 4. Slope and Cost Surface\n",
    "Derive slope from the DEM and generate a cost surface for routing."
   ]
  },
  {
   "cell_type": "code",
   "execution_count": 8,
   "id": "d915fcec",
   "metadata": {},
   "outputs": [
    {
     "name": "stdout",
     "output_type": "stream",
     "text": [
      "Slope calculated\n"
     ]
    }
   ],
   "source": [
    "# Get spatial resolution (in projected units, e.g., meters)\n",
    "res_y, res_x = map(abs, dem.rio.resolution())\n",
    "\n",
    "# Calculate gradients along x and y directions\n",
    "dz_dx, dz_dy = np.gradient(dem.values, res_y, res_x)\n",
    "\n",
    "# Compute slope magnitude and convert to degrees\n",
    "slope_degrees = np.degrees(np.arctan(np.sqrt(dz_dx**2 + dz_dy**2)))"
   ]
  },
  {
   "cell_type": "code",
   "execution_count": 9,
   "id": "8eb7c6a4",
   "metadata": {},
   "outputs": [],
   "source": [
    "# Wrap slope into xarray.DataArray for metadata + spatial reference\n",
    "slope = xr.DataArray(\n",
    "    slope_degrees,\n",
    "    coords=dem.coords,\n",
    "    dims=dem.dims,\n",
    "    attrs=dem.attrs\n",
    ").rio.write_crs(dem.rio.crs)\n",
    "\n",
    "# Normalize slope and create cost surface: higher slope = higher cost\n",
    "slope_normalized = (slope - slope.min()) / (slope.max() - slope.min())\n",
    "cost_surface = 1 + (slope_normalized * 9)  # scale cost between 1–10\n",
    "cost_surface.rio.write_crs(dem.rio.crs)\n",
    "\n",
    "# Save outputs\n",
    "slope.rio.to_raster(\"slope_degrees.tif\")\n",
    "cost_surface.rio.to_raster(\"cost_surface.tif\")"
   ]
  },
  {
   "cell_type": "markdown",
   "id": "e0d07cd6",
   "metadata": {},
   "source": [
    "## 5. Routing Setup\n",
    "Define start/end points and translate them into array indices."
   ]
  },
  {
   "cell_type": "code",
   "execution_count": 10,
   "id": "f42698cf",
   "metadata": {},
   "outputs": [
    {
     "name": "stdout",
     "output_type": "stream",
     "text": [
      "Beginning routing\n"
     ]
    }
   ],
   "source": [
    "print(\"Beginning routing\")\n",
    "\n",
    "# Start and end coordinates in EPSG:3857 (meters)\n",
    "start_coords = (-7508109, -10237837)\n",
    "end_coords   = (-7467806, -10283841)\n",
    "\n",
    "# Convert geographic coordinates to array row/col\n",
    "transform = slope.rio.transform()\n",
    "start_row, start_col = rowcol(transform, *start_coords)\n",
    "end_row, end_col = rowcol(transform, *end_coords)"
   ]
  },
  {
   "cell_type": "code",
   "execution_count": 11,
   "id": "473bb74c",
   "metadata": {},
   "outputs": [],
   "source": [
    "# Replace NaNs and infinities in cost array to avoid routing errors\n",
    "cost_array = np.nan_to_num(cost_surface.values, nan=9999, posinf=9999, neginf=9999)"
   ]
  },
  {
   "cell_type": "markdown",
   "id": "c8d48a3a",
   "metadata": {},
   "source": [
    "## 6. Pathfinding\n",
    "Use `route_through_array` to find the least-cost path."
   ]
  },
  {
   "cell_type": "code",
   "execution_count": 12,
   "id": "05b3781e",
   "metadata": {},
   "outputs": [],
   "source": [
    "indices, total_cost = route_through_array(\n",
    "    cost_array,\n",
    "    (start_row, start_col),\n",
    "    (end_row, end_col),\n",
    "    fully_connected=True\n",
    ")\n",
    "\n",
    "# Convert list of indices to binary mask (1 for path, 0 elsewhere)\n",
    "path_mask = np.zeros_like(cost_array, dtype=np.uint8)\n",
    "for r, c in indices:\n",
    "    path_mask[r, c] = 1\n",
    "\n",
    "path_da = xr.DataArray(\n",
    "    path_mask,\n",
    "    coords=slope.coords,\n",
    "    dims=slope.dims,\n",
    "    attrs=slope.attrs\n",
    ")"
   ]
  },
  {
   "cell_type": "markdown",
   "id": "969ececd",
   "metadata": {},
   "source": [
    "## 7. Export Results\n",
    "Save least-cost path to a GeoTIFF file."
   ]
  },
  {
   "cell_type": "code",
   "execution_count": 13,
   "id": "9d4f756b",
   "metadata": {},
   "outputs": [],
   "source": [
    "path_da.rio.to_raster(\"least_cost_path.tif\")"
   ]
  }
 ],
 "metadata": {
  "kernelspec": {
   "display_name": "Python 3 (ipykernel)",
   "language": "python",
   "name": "python3"
  },
  "language_info": {
   "codemirror_mode": {
    "name": "ipython",
    "version": 3
   },
   "file_extension": ".py",
   "mimetype": "text/x-python",
   "name": "python",
   "nbconvert_exporter": "python",
   "pygments_lexer": "ipython3",
   "version": "3.10.18"
  }
 },
 "nbformat": 4,
 "nbformat_minor": 5
}
